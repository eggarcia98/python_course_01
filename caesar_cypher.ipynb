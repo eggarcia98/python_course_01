{
  "nbformat": 4,
  "nbformat_minor": 0,
  "metadata": {
    "colab": {
      "provenance": [],
      "authorship_tag": "ABX9TyOK+xPVUYFKznAdESdSS72u",
      "include_colab_link": true
    },
    "kernelspec": {
      "name": "python3",
      "display_name": "Python 3"
    },
    "language_info": {
      "name": "python"
    }
  },
  "cells": [
    {
      "cell_type": "markdown",
      "metadata": {
        "id": "view-in-github",
        "colab_type": "text"
      },
      "source": [
        "<a href=\"https://colab.research.google.com/github/eggarcia98/python_course_01/blob/main/caesar_cypher.ipynb\" target=\"_parent\"><img src=\"https://colab.research.google.com/assets/colab-badge.svg\" alt=\"Open In Colab\"/></a>"
      ]
    },
    {
      "cell_type": "markdown",
      "source": [
        "The Caesar cipher is an ancient encryption algorithm used by Julius Caesar. It \n",
        "encrypts letters by shifting them over by a certain number of places in the alphabet. We call the length of shift the key. For example, if the key is 3 then A becomes D, B becomes E, C becomes F, and so on. To decrypt the message, you must shift the encrypted letters in the opposite direction. This program lets the user encrypt and decrypt messages according to this algorithm."
      ],
      "metadata": {
        "id": "JQDmpx48feoa"
      }
    },
    {
      "cell_type": "markdown",
      "source": [
        "================================================================================"
      ],
      "metadata": {
        "id": "ODTOZDm8g3m7"
      }
    },
    {
      "cell_type": "markdown",
      "source": [
        "When you run the code, the output will look like this:\n",
        "\n",
        "Do you want to (e)ncrypt or (d)ecrypt? \n",
        ">e\n",
        "\n",
        "Please enter the key (0 to 25) to use.\n",
        "> 4\n",
        "\n",
        "Enter the message to encrypt.\n",
        "> Meet me by the rose bushes tonight.\n",
        "\n",
        "Output:\n",
        "> QIIX QI FC XLI VSWI FYWLIW XSRMKLX.\n"
      ],
      "metadata": {
        "id": "17KB2eGAfyb-"
      }
    },
    {
      "cell_type": "markdown",
      "source": [
        "================================================================================"
      ],
      "metadata": {
        "id": "VD9UZ8LAg7kR"
      }
    },
    {
      "cell_type": "markdown",
      "source": [
        "\n",
        "Do you want to (e)ncrypt or (d)ecrypt?\n",
        "> d\n",
        "\n",
        "Please enter the key (0 to 26) to use.\n",
        "> 4\n",
        "\n",
        "Enter the message to decrypt.\n",
        "> QIIX QI FC XLI VSWI FYWLIW XSRMKLX.\n",
        "\n",
        "Output:\n",
        "\n",
        "```\n",
        "# This is formatted as code\n",
        "```\n",
        "\n",
        "\n",
        "> MEET ME BY THE ROSE BUSHES TONIGHT."
      ],
      "metadata": {
        "id": "SJO91Jh-gZ4i"
      }
    },
    {
      "cell_type": "code",
      "source": [
        "def validate_key(key_to_validate):\n",
        "  if not key_to_validate.isdigit():\n",
        "    return False\n",
        "  \n",
        "  key_number = int(key_to_validate)\n",
        "  if not key_number in range(0,27):\n",
        "    return False\n",
        "\n",
        "  return True\n",
        "\n"
      ],
      "metadata": {
        "id": "LH9-faOxhbaE"
      },
      "execution_count": 2,
      "outputs": []
    },
    {
      "cell_type": "code",
      "source": [
        "import string\n",
        "abc_list = list(string.ascii_lowercase)\n",
        "last_index_abc = len(abc_list) - 1\n",
        "\n",
        "def encrypt_message(message, key):\n",
        "  \n",
        "  encrypted_message = \"\"\n",
        "  for letter in message:\n",
        "    encrypted_letter = \"\"\n",
        "    \n",
        "    try:\n",
        "      abc_list_index = abc_list.index(letter.lower())\n",
        "      if abc_list_index + key > last_index_abc:\n",
        "        exceded_postions = abc_list_index + key - last_index_abc\n",
        "        encrypted_letter = abc_list[exceded_postions - 1]\n",
        "      else: \n",
        "        encrypted_letter = abc_list[abc_list_index + key]\n",
        "    except ValueError as e:\n",
        "      encrypted_letter = letter  \n",
        "\n",
        "    encrypted_message += encrypted_letter\n",
        "  return encrypted_message\n",
        "\n",
        "def decrypt_message(message, key):\n",
        "  \n",
        "  encrypted_message = \"\"\n",
        "  for letter in message:\n",
        "    encrypted_letter = \"\"\n",
        "    \n",
        "    try:\n",
        "      abc_list_index = abc_list.index(letter.lower())\n",
        "      if abc_list_index - key < 0:\n",
        "        exceded_postions = abc_list_index - key\n",
        "        encrypted_letter = abc_list[last_index_abc + exceded_postions]\n",
        "      else: \n",
        "        encrypted_letter = abc_list[abc_list_index - key]\n",
        "    except ValueError as e:\n",
        "      encrypted_letter = letter  \n",
        "\n",
        "    encrypted_message += encrypted_letter\n",
        "  return encrypted_message\n"
      ],
      "metadata": {
        "id": "rdBi-Qz3kYpt"
      },
      "execution_count": 21,
      "outputs": []
    },
    {
      "cell_type": "code",
      "execution_count": 22,
      "metadata": {
        "colab": {
          "base_uri": "https://localhost:8080/"
        },
        "id": "CBnTw0q3fU-u",
        "outputId": "248ab99e-ea7d-43b6-854c-d0c30afb452c"
      },
      "outputs": [
        {
          "output_type": "stream",
          "name": "stdout",
          "text": [
            "Do you want to (e)ncrypt or (d)ecrypt?: d\n",
            "Please enter the key (0 - 26) to use: 4\n",
            "Enter the message to decrypt: qiix qi fc xli vswi fywliw xsrmklx.\n",
            "meet me bx the rose bushes tonight.\n"
          ]
        }
      ],
      "source": [
        "operation = input(\"Do you want to (e)ncrypt or (d)ecrypt?: \")\n",
        "\n",
        "is_valid_key = False\n",
        "while not is_valid_key:\n",
        "  key = input(\"Please enter the key (0 - 26) to use: \")\n",
        "  is_valid_key = validate_key(key)\n",
        "\n",
        "key = int(key)\n",
        "\n",
        "if operation.lower() == 'd':\n",
        "  message_to_decrypt = input(\"Enter the message to decrypt: \")\n",
        "  print(decrypt_message(message_to_decrypt, key))\n",
        "if operation.lower() == 'e':\n",
        "  message_to_encrypt = input(\"Enter the message to encrypt: \")\n",
        "  print(encrypt_message(message_to_encrypt, key))\n",
        "\n"
      ]
    }
  ]
}