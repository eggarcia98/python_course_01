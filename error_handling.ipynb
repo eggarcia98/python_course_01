{
  "cells": [
    {
      "cell_type": "markdown",
      "metadata": {
        "id": "view-in-github",
        "colab_type": "text"
      },
      "source": [
        "<a href=\"https://colab.research.google.com/github/eggarcia98/python_course_01/blob/main/error_handling.ipynb\" target=\"_parent\"><img src=\"https://colab.research.google.com/assets/colab-badge.svg\" alt=\"Open In Colab\"/></a>"
      ]
    },
    {
      "cell_type": "markdown",
      "metadata": {
        "id": "nYt2jmITSMve"
      },
      "source": [
        "1. Write a function that takes a list of integers as an argument, and returns the sum of the integers. Use a try-except block to catch any ValueError exceptions that may be raised when attempting to convert a string to an integer."
      ]
    },
    {
      "cell_type": "code",
      "execution_count": 4,
      "metadata": {
        "colab": {
          "base_uri": "https://localhost:8080/"
        },
        "id": "SH-AKI2BSMvh",
        "outputId": "37c06f1a-f697-4d8e-d1f8-c695311690dc"
      },
      "outputs": [
        {
          "output_type": "stream",
          "name": "stdout",
          "text": [
            "invalid literal for int() with base 10: 'hello'\n"
          ]
        },
        {
          "output_type": "execute_result",
          "data": {
            "text/plain": [
              "15"
            ]
          },
          "metadata": {},
          "execution_count": 4
        }
      ],
      "source": [
        "def validate_integer(number):\n",
        "  try:\n",
        "    return int(number)\n",
        "  except ValueError as e:\n",
        "    print(e)\n",
        "    return 0\n",
        "\n",
        "def add_number_list(number_list = []):\n",
        "  parsed_number_list = [ validate_integer(number) for number in number_list ]\n",
        "  return sum(parsed_number_list)\n",
        "  \n",
        "number_list = [1,2,3,\"hello\", \"4\", 5]\n",
        "add_number_list(number_list)\n"
      ]
    },
    {
      "cell_type": "markdown",
      "metadata": {
        "id": "QzuT_-O6SMvh"
      },
      "source": [
        "2. Write a function that takes a filename as an argument, and attempts to open the file. Use a try-except block to catch any FileNotFoundError exceptions that may be raised when attempting to open the file. If the file is successfully opened, the function should return the contents of the file."
      ]
    },
    {
      "cell_type": "code",
      "execution_count": 7,
      "metadata": {
        "colab": {
          "base_uri": "https://localhost:8080/"
        },
        "id": "rz8fmCzsSMvi",
        "outputId": "c8346bd0-0a1c-4197-94b7-a43ca26c50c8"
      },
      "outputs": [
        {
          "output_type": "stream",
          "name": "stdout",
          "text": [
            "Drive already mounted at /content/drive; to attempt to forcibly remount, call drive.mount(\"/content/drive\", force_remount=True).\n"
          ]
        }
      ],
      "source": [
        "from google.colab import drive\n",
        "drive.mount('/content/drive')"
      ]
    },
    {
      "cell_type": "code",
      "source": [
        "def read_file(filename=\"\"):\n",
        "  path = f'/content/sample_data/{filename}'\n",
        "  content = ''\n",
        "\n",
        "  try: \n",
        "    with open(path) as f:\n",
        "      content = f.readlines()\n",
        "    return content\n",
        "  except FileNotFoundError as e:\n",
        "    return e\n",
        "\n",
        "valid_file = read_file(\"anscombe.json\")\n",
        "print(\"VALID FILE: \", valid_file)\n",
        "\n",
        "invalid_file = read_file(\"file_not_found.json\")\n",
        "print(\"INVALID FILE: \", invalid_file)"
      ],
      "metadata": {
        "colab": {
          "base_uri": "https://localhost:8080/"
        },
        "id": "bZH3SVeHaYCe",
        "outputId": "f01d200b-3f37-48f7-f379-a3d24812ab99"
      },
      "execution_count": 15,
      "outputs": [
        {
          "output_type": "stream",
          "name": "stdout",
          "text": [
            "VALID FILE:  ['[\\n', '  {\"Series\":\"I\", \"X\":10.0, \"Y\":8.04},\\n', '  {\"Series\":\"I\", \"X\":8.0, \"Y\":6.95},\\n', '  {\"Series\":\"I\", \"X\":13.0, \"Y\":7.58},\\n', '  {\"Series\":\"I\", \"X\":9.0, \"Y\":8.81},\\n', '  {\"Series\":\"I\", \"X\":11.0, \"Y\":8.33},\\n', '  {\"Series\":\"I\", \"X\":14.0, \"Y\":9.96},\\n', '  {\"Series\":\"I\", \"X\":6.0, \"Y\":7.24},\\n', '  {\"Series\":\"I\", \"X\":4.0, \"Y\":4.26},\\n', '  {\"Series\":\"I\", \"X\":12.0, \"Y\":10.84},\\n', '  {\"Series\":\"I\", \"X\":7.0, \"Y\":4.81},\\n', '  {\"Series\":\"I\", \"X\":5.0, \"Y\":5.68},\\n', '\\n', '  {\"Series\":\"II\", \"X\":10.0, \"Y\":9.14},\\n', '  {\"Series\":\"II\", \"X\":8.0, \"Y\":8.14},\\n', '  {\"Series\":\"II\", \"X\":13.0, \"Y\":8.74},\\n', '  {\"Series\":\"II\", \"X\":9.0, \"Y\":8.77},\\n', '  {\"Series\":\"II\", \"X\":11.0, \"Y\":9.26},\\n', '  {\"Series\":\"II\", \"X\":14.0, \"Y\":8.10},\\n', '  {\"Series\":\"II\", \"X\":6.0, \"Y\":6.13},\\n', '  {\"Series\":\"II\", \"X\":4.0, \"Y\":3.10},\\n', '  {\"Series\":\"II\", \"X\":12.0, \"Y\":9.13},\\n', '  {\"Series\":\"II\", \"X\":7.0, \"Y\":7.26},\\n', '  {\"Series\":\"II\", \"X\":5.0, \"Y\":4.74},\\n', '\\n', '  {\"Series\":\"III\", \"X\":10.0, \"Y\":7.46},\\n', '  {\"Series\":\"III\", \"X\":8.0, \"Y\":6.77},\\n', '  {\"Series\":\"III\", \"X\":13.0, \"Y\":12.74},\\n', '  {\"Series\":\"III\", \"X\":9.0, \"Y\":7.11},\\n', '  {\"Series\":\"III\", \"X\":11.0, \"Y\":7.81},\\n', '  {\"Series\":\"III\", \"X\":14.0, \"Y\":8.84},\\n', '  {\"Series\":\"III\", \"X\":6.0, \"Y\":6.08},\\n', '  {\"Series\":\"III\", \"X\":4.0, \"Y\":5.39},\\n', '  {\"Series\":\"III\", \"X\":12.0, \"Y\":8.15},\\n', '  {\"Series\":\"III\", \"X\":7.0, \"Y\":6.42},\\n', '  {\"Series\":\"III\", \"X\":5.0, \"Y\":5.73},\\n', '\\n', '  {\"Series\":\"IV\", \"X\":8.0, \"Y\":6.58},\\n', '  {\"Series\":\"IV\", \"X\":8.0, \"Y\":5.76},\\n', '  {\"Series\":\"IV\", \"X\":8.0, \"Y\":7.71},\\n', '  {\"Series\":\"IV\", \"X\":8.0, \"Y\":8.84},\\n', '  {\"Series\":\"IV\", \"X\":8.0, \"Y\":8.47},\\n', '  {\"Series\":\"IV\", \"X\":8.0, \"Y\":7.04},\\n', '  {\"Series\":\"IV\", \"X\":8.0, \"Y\":5.25},\\n', '  {\"Series\":\"IV\", \"X\":19.0, \"Y\":12.50},\\n', '  {\"Series\":\"IV\", \"X\":8.0, \"Y\":5.56},\\n', '  {\"Series\":\"IV\", \"X\":8.0, \"Y\":7.91},\\n', '  {\"Series\":\"IV\", \"X\":8.0, \"Y\":6.89}\\n', ']\\n']\n",
            "INVALID FILE:  [Errno 2] No such file or directory: '/content/sample_data/file_not_found.json'\n"
          ]
        }
      ]
    },
    {
      "cell_type": "markdown",
      "metadata": {
        "id": "TmbGkOwdSMvj"
      },
      "source": [
        "3. Write a function that takes a list of strings as an argument, and returns a new list containing only the strings that can be successfully converted to a float. Use a try-except block to catch any ValueError exceptions that may be raised when attempting to convert a string to a float."
      ]
    },
    {
      "cell_type": "code",
      "execution_count": null,
      "metadata": {
        "id": "kIPBfN5_SMvk"
      },
      "outputs": [],
      "source": []
    },
    {
      "cell_type": "markdown",
      "metadata": {
        "id": "XMVMkbYHSMvl"
      },
      "source": [
        "4. Write a function that takes a list of dictionaries as an argument, and returns the value of a specified key from each dictionary. Use a try-except block to catch any KeyError exceptions that may be raised when attempting to access a key that does not exist in a dictionary."
      ]
    },
    {
      "cell_type": "code",
      "execution_count": null,
      "metadata": {
        "id": "9VX06-2jSMvm"
      },
      "outputs": [],
      "source": []
    },
    {
      "cell_type": "markdown",
      "metadata": {
        "id": "pSVfQiCiSMvn"
      },
      "source": [
        "5. Write a function that takes a list of integers as an argument, and returns the largest integer in the list. Use a try-except block to catch any ValueError exceptions that may be raised when attempting to compare elements that are not integers."
      ]
    },
    {
      "cell_type": "code",
      "execution_count": null,
      "metadata": {
        "id": "bOIgadJ7SMvp"
      },
      "outputs": [],
      "source": []
    }
  ],
  "metadata": {
    "kernelspec": {
      "display_name": "Python 3",
      "language": "python",
      "name": "python3"
    },
    "language_info": {
      "name": "python",
      "version": "3.10.9"
    },
    "orig_nbformat": 4,
    "vscode": {
      "interpreter": {
        "hash": "f7a5be651532581cb44625d52e18aa1d390cab54bc6b51099d8c30bea9b68219"
      }
    },
    "colab": {
      "provenance": [],
      "include_colab_link": true
    }
  },
  "nbformat": 4,
  "nbformat_minor": 0
}