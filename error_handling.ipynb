{
  "cells": [
    {
      "cell_type": "markdown",
      "metadata": {
        "id": "view-in-github",
        "colab_type": "text"
      },
      "source": [
        "<a href=\"https://colab.research.google.com/github/eggarcia98/python_course_01/blob/main/error_handling.ipynb\" target=\"_parent\"><img src=\"https://colab.research.google.com/assets/colab-badge.svg\" alt=\"Open In Colab\"/></a>"
      ]
    },
    {
      "cell_type": "markdown",
      "metadata": {
        "id": "nYt2jmITSMve"
      },
      "source": [
        "1. Write a function that takes a list of integers as an argument, and returns the sum of the integers. Use a try-except block to catch any ValueError exceptions that may be raised when attempting to convert a string to an integer."
      ]
    },
    {
      "cell_type": "code",
      "execution_count": 4,
      "metadata": {
        "colab": {
          "base_uri": "https://localhost:8080/"
        },
        "id": "SH-AKI2BSMvh",
        "outputId": "37c06f1a-f697-4d8e-d1f8-c695311690dc"
      },
      "outputs": [
        {
          "output_type": "stream",
          "name": "stdout",
          "text": [
            "invalid literal for int() with base 10: 'hello'\n"
          ]
        },
        {
          "output_type": "execute_result",
          "data": {
            "text/plain": [
              "15"
            ]
          },
          "metadata": {},
          "execution_count": 4
        }
      ],
      "source": [
        "def validate_integer(number):\n",
        "  try:\n",
        "    return int(number)\n",
        "  except ValueError as e:\n",
        "    print(e)\n",
        "    return 0\n",
        "\n",
        "def add_number_list(number_list = []):\n",
        "  parsed_number_list = [ validate_integer(number) for number in number_list ]\n",
        "  return sum(parsed_number_list)\n",
        "  \n",
        "number_list = [1,2,3,\"hello\", \"4\", 5]\n",
        "add_number_list(number_list)\n"
      ]
    },
    {
      "cell_type": "markdown",
      "metadata": {
        "id": "QzuT_-O6SMvh"
      },
      "source": [
        "2. Write a function that takes a filename as an argument, and attempts to open the file. Use a try-except block to catch any FileNotFoundError exceptions that may be raised when attempting to open the file. If the file is successfully opened, the function should return the contents of the file."
      ]
    },
    {
      "cell_type": "code",
      "execution_count": null,
      "metadata": {
        "id": "rz8fmCzsSMvi"
      },
      "outputs": [],
      "source": []
    },
    {
      "cell_type": "markdown",
      "metadata": {
        "id": "TmbGkOwdSMvj"
      },
      "source": [
        "3. Write a function that takes a list of strings as an argument, and returns a new list containing only the strings that can be successfully converted to a float. Use a try-except block to catch any ValueError exceptions that may be raised when attempting to convert a string to a float."
      ]
    },
    {
      "cell_type": "code",
      "execution_count": null,
      "metadata": {
        "id": "kIPBfN5_SMvk"
      },
      "outputs": [],
      "source": []
    },
    {
      "cell_type": "markdown",
      "metadata": {
        "id": "XMVMkbYHSMvl"
      },
      "source": [
        "4. Write a function that takes a list of dictionaries as an argument, and returns the value of a specified key from each dictionary. Use a try-except block to catch any KeyError exceptions that may be raised when attempting to access a key that does not exist in a dictionary."
      ]
    },
    {
      "cell_type": "code",
      "execution_count": null,
      "metadata": {
        "id": "9VX06-2jSMvm"
      },
      "outputs": [],
      "source": []
    },
    {
      "cell_type": "markdown",
      "metadata": {
        "id": "pSVfQiCiSMvn"
      },
      "source": [
        "5. Write a function that takes a list of integers as an argument, and returns the largest integer in the list. Use a try-except block to catch any ValueError exceptions that may be raised when attempting to compare elements that are not integers."
      ]
    },
    {
      "cell_type": "code",
      "execution_count": null,
      "metadata": {
        "id": "bOIgadJ7SMvp"
      },
      "outputs": [],
      "source": []
    }
  ],
  "metadata": {
    "kernelspec": {
      "display_name": "Python 3",
      "language": "python",
      "name": "python3"
    },
    "language_info": {
      "name": "python",
      "version": "3.10.9"
    },
    "orig_nbformat": 4,
    "vscode": {
      "interpreter": {
        "hash": "f7a5be651532581cb44625d52e18aa1d390cab54bc6b51099d8c30bea9b68219"
      }
    },
    "colab": {
      "provenance": [],
      "include_colab_link": true
    }
  },
  "nbformat": 4,
  "nbformat_minor": 0
}