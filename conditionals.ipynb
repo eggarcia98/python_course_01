{
  "cells": [
    {
      "cell_type": "markdown",
      "metadata": {
        "id": "view-in-github",
        "colab_type": "text"
      },
      "source": [
        "<a href=\"https://colab.research.google.com/github/eggarcia98/python_course_01/blob/main/conditionals.ipynb\" target=\"_parent\"><img src=\"https://colab.research.google.com/assets/colab-badge.svg\" alt=\"Open In Colab\"/></a>"
      ]
    },
    {
      "cell_type": "markdown",
      "metadata": {
        "id": "G_60NRU0y5e6"
      },
      "source": [
        "1. Write a program that prompts the user for a string and checks whether the \n",
        "string is a palindrome (i.e., the string reads the same forward and backward)."
      ]
    },
    {
      "cell_type": "code",
      "execution_count": 16,
      "metadata": {
        "colab": {
          "base_uri": "https://localhost:8080/"
        },
        "id": "RnH__Kjiy5e-",
        "outputId": "db0bf6b6-3acb-479c-9c8e-12140b3c8388"
      },
      "outputs": [
        {
          "output_type": "stream",
          "name": "stdout",
          "text": [
            "Please write a word and press Enter: Anita lava la tina\n",
            "Anita lava la tina is a palindrome\n"
          ]
        }
      ],
      "source": [
        "new_string = input(\"Please write a word and press Enter: \")\n",
        "formated_string = new_string.upper().replace(\" \", \"\")\n",
        "\n",
        "reversed_string = formated_string[::-1]\n",
        "\n",
        "if(formated_string == reversed_string):\n",
        "  print(f\"{new_string} is a palindrome\")   \n",
        "else: \n",
        "  print(f\"{new_string} isn't a palindrome\")   \n"
      ]
    },
    {
      "cell_type": "markdown",
      "metadata": {
        "id": "OhTGpOYBy5fA"
      },
      "source": [
        "2. Write a program that takes in a list of integers and returns the sum of all even numbers in the list."
      ]
    },
    {
      "cell_type": "code",
      "execution_count": 26,
      "metadata": {
        "colab": {
          "base_uri": "https://localhost:8080/"
        },
        "id": "x7jiGcOAy5fC",
        "outputId": "e3ddf428-f4fe-4b9d-8df3-1aa2c691233f"
      },
      "outputs": [
        {
          "output_type": "stream",
          "name": "stdout",
          "text": [
            "Please enter a list of numbers separated by commas: 5,4,20,18,17,1\n",
            "[4, 20, 18]\n",
            "The even numbres are [4, 20, 18] and the sum of all is 42\n"
          ]
        }
      ],
      "source": [
        "import re\n",
        "\n",
        "# To check if the input of user is valid \n",
        "list_of_numbers_pattern = r\"^\\d+(,\\d+)*$\" # 1,2,3,..n\n",
        "is_a_list_of_numbers = False\n",
        "\n",
        "list_of_numbers_str = \"\"\n",
        "\n",
        "# While the user input no match with patterns the program request to user again to enter a list of numbers\n",
        "while not is_a_list_of_numbers:\n",
        "  list_of_numbers_str = input(\"Please enter a list of numbers separated by commas: \")\n",
        "  list_of_numbers_str = list_of_numbers_str.replace(\" \", \"\")\n",
        "  \n",
        "  is_a_list_of_numbers = re.match(list_of_numbers_pattern, list_of_numbers_str)\n",
        "\n",
        "# Parsing the string list of numbers into an array \n",
        "list_of_numbers = list_of_numbers_str.split(\",\")\n",
        "\n",
        "# Parsing each element of array into a int value\n",
        "list_of_numbers = [int(x) for x in list_of_numbers]\n",
        "\n",
        "# Filtering only even numbers\n",
        "even_list = list(filter(lambda x: int(x) % 2 == 0, list_of_numbers))\n",
        "\n",
        "print(f\"The even numbres are {even_list} and the sum of all is {sum(even_list)}\")"
      ]
    },
    {
      "cell_type": "markdown",
      "metadata": {
        "id": "0Z7OK1awy5fE"
      },
      "source": [
        "3. Write a program that prompts the user for their age and checks whether they are old enough to vote (i.e., 18 years old or older)."
      ]
    },
    {
      "cell_type": "code",
      "execution_count": 33,
      "metadata": {
        "colab": {
          "base_uri": "https://localhost:8080/"
        },
        "id": "LUoHIbSky5fH",
        "outputId": "42da9fc4-f0c8-460f-ed18-0f94104ba12c"
      },
      "outputs": [
        {
          "output_type": "stream",
          "name": "stdout",
          "text": [
            "Enter your current age (i.e. 20): 11\n",
            "You net have 18 years old or older to vote\n"
          ]
        }
      ],
      "source": [
        "import re\n",
        "\n",
        "age_pattern = r'^\\d+$'\n",
        "user_age = input(\"Enter your current age (i.e. 20): \")\n",
        "\n",
        "if not re.match(age_pattern, user_age):\n",
        "  print(f\"{user_age} not is a valid age value.\")\n",
        "elif int(user_age) >= 18:\n",
        "    print(f\"You can vote\")\n",
        "else: \n",
        "  print(\"You should have 18 years old or older to vote\")"
      ]
    },
    {
      "cell_type": "markdown",
      "metadata": {
        "id": "eR_PkkQRy5fJ"
      },
      "source": [
        "4. Write a program that takes in a list of integers and returns the largest number in the list that is also divisible by 3."
      ]
    },
    {
      "cell_type": "code",
      "execution_count": 35,
      "metadata": {
        "colab": {
          "base_uri": "https://localhost:8080/"
        },
        "id": "oO1nHVNVy5fJ",
        "outputId": "aa361d60-6925-4f58-c00b-0f728ff2e466"
      },
      "outputs": [
        {
          "output_type": "stream",
          "name": "stdout",
          "text": [
            "Please enter a list of numbers separated by commas: 1,3,27,5,4\n",
            "The largest and divisible by number of the list is 27\n"
          ]
        }
      ],
      "source": [
        "import re\n",
        "\n",
        "# To check if the input of user is valid \n",
        "list_of_numbers_pattern = r\"^\\d+(,\\d+)*$\" # 1,2,3,..n\n",
        "is_a_list_of_numbers = False\n",
        "\n",
        "list_of_numbers_str = \"\"\n",
        "\n",
        "# While the user input no match with patterns the program request to user again to enter a list of numbers\n",
        "while not is_a_list_of_numbers:\n",
        "  list_of_numbers_str = input(\"Please enter a list of numbers separated by commas: \")\n",
        "  list_of_numbers_str = list_of_numbers_str.replace(\" \", \"\")\n",
        "  \n",
        "  is_a_list_of_numbers = re.match(list_of_numbers_pattern, list_of_numbers_str)\n",
        "\n",
        "# Parsing the string list of numbers into an array \n",
        "list_of_numbers = list_of_numbers_str.split(\",\")\n",
        "\n",
        "# Parsing each element of array into a int value\n",
        "list_of_numbers = [int(x) for x in list_of_numbers]\n",
        "\n",
        "# Filtering divisible by 3 numbers\n",
        "divisble_by_3_numbers = list(filter(lambda x: int(x) % 3 == 0, list_of_numbers))\n",
        "\n",
        "print(f\"The largest and divisible by number of the list is {max(divisble_by_3_numbers)}\")"
      ]
    },
    {
      "cell_type": "markdown",
      "metadata": {
        "id": "pTuUJY_Hy5fL"
      },
      "source": [
        "5. Write a program that prompts the user for a number and checks whether the number is a prime number (i.e., only divisible by 1 and itself)."
      ]
    },
    {
      "cell_type": "code",
      "execution_count": 43,
      "metadata": {
        "colab": {
          "base_uri": "https://localhost:8080/"
        },
        "id": "N9r26kDiy5fO",
        "outputId": "f69f09c7-1682-4931-ca79-e3be05039781"
      },
      "outputs": [
        {
          "output_type": "stream",
          "name": "stdout",
          "text": [
            "Please enter a list of numbers separated by commas: 4,2,9,3,17\n",
            "The prime numbers are: [2, 3, 17]\n"
          ]
        }
      ],
      "source": [
        "import re\n",
        "\n",
        "# To check if the input of user is valid \n",
        "list_of_numbers_pattern = r\"^\\d+(,\\d+)*$\" # 1,2,3,..n\n",
        "is_a_list_of_numbers = False\n",
        "\n",
        "list_of_numbers_str = \"\"\n",
        "\n",
        "# While the user input no match with patterns the program request to user again to enter a list of numbers\n",
        "while not is_a_list_of_numbers:\n",
        "  list_of_numbers_str = input(\"Please enter a list of numbers separated by commas: \")\n",
        "  list_of_numbers_str = list_of_numbers_str.replace(\" \", \"\")\n",
        "  \n",
        "  is_a_list_of_numbers = re.match(list_of_numbers_pattern, list_of_numbers_str)\n",
        "\n",
        "# Parsing the string list of numbers into an array \n",
        "list_of_numbers = list_of_numbers_str.split(\",\")\n",
        "\n",
        "# Parsing each element of array into a int value\n",
        "list_of_numbers = [int(x) for x in list_of_numbers]\n",
        "\n",
        "prime_numbers = []\n",
        "\n",
        "# Filtering prime numbers\n",
        "for number_of_list in list_of_numbers:\n",
        "  count = 0;\n",
        "\n",
        "  for number_to_check in range(1, number_of_list + 1):\n",
        "    if(number_of_list % number_to_check == 0):\n",
        "      count += 1\n",
        "    if count > 2:\n",
        "      break\n",
        "  \n",
        "  if not count > 2:\n",
        "    prime_numbers.append(number_of_list)\n",
        "\n",
        "\n",
        "print(f\"The prime numbers are: {prime_numbers}\")"
      ]
    }
  ],
  "metadata": {
    "kernelspec": {
      "display_name": "Python 3",
      "language": "python",
      "name": "python3"
    },
    "language_info": {
      "name": "python",
      "version": "3.10.10"
    },
    "orig_nbformat": 4,
    "vscode": {
      "interpreter": {
        "hash": "f7a5be651532581cb44625d52e18aa1d390cab54bc6b51099d8c30bea9b68219"
      }
    },
    "colab": {
      "provenance": [],
      "include_colab_link": true
    }
  },
  "nbformat": 4,
  "nbformat_minor": 0
}